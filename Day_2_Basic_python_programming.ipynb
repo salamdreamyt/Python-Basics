{
  "nbformat": 4,
  "nbformat_minor": 0,
  "metadata": {
    "colab": {
      "provenance": []
    },
    "kernelspec": {
      "name": "python3",
      "display_name": "Python 3"
    },
    "language_info": {
      "name": "python"
    }
  },
  "cells": [
    {
      "cell_type": "markdown",
      "source": [
        "Variables and data types\n",
        "Question 1:\n",
        "Variables and data type\n",
        "Variables are used to store and manipulate data.\n",
        "Integers are whole numbers without decimal points.\n",
        "Floats represent decimal numbers.\n",
        "Strings represent textual data.\n",
        "Define a variable\n",
        "num1\n",
        "and store an integer value\n",
        "10\n",
        "Define a variable\n",
        "num2\n",
        "and store a float value\n",
        "10.0\n",
        "Define a variable\n",
        "my_name\n",
        "and store a string value\n",
        "your name\n",
        "Hint:\n",
        "Create variable to store the value"
      ],
      "metadata": {
        "id": "05-eAEieJMLO"
      }
    },
    {
      "cell_type": "code",
      "source": [
        "num1=10\n",
        "num2=10.0\n",
        "my_name=\"salam\"\n",
        "print(num1)\n",
        "print(num2)\n",
        "print(my_name)"
      ],
      "metadata": {
        "colab": {
          "base_uri": "https://localhost:8080/"
        },
        "id": "-3mYgAYQJbqe",
        "outputId": "2a179661-b2ce-4b15-fcf5-4cc19ea0f96f"
      },
      "execution_count": null,
      "outputs": [
        {
          "output_type": "stream",
          "name": "stdout",
          "text": [
            "10\n",
            "10.0\n",
            "salam\n"
          ]
        }
      ]
    },
    {
      "cell_type": "markdown",
      "source": [
        "Question 2:\n",
        "Variables and the Boolean data type\n",
        "Variables are used to store and manipulate data.\n",
        "Booleans represent truth values (True or False)\n",
        "Define a variable\n",
        "logged_in\n",
        "and set it to\n",
        "True\n",
        ".\n",
        "Define another variable\n",
        "logged_out\n",
        "and set it to\n",
        "False\n",
        ".\n",
        "Hint:\n",
        "Create a boolean variables"
      ],
      "metadata": {
        "id": "s4PbHgSQJ52u"
      }
    },
    {
      "cell_type": "code",
      "source": [
        "logged_in=True\n",
        "logged_out=False\n",
        "type(logged_in)\n"
      ],
      "metadata": {
        "colab": {
          "base_uri": "https://localhost:8080/"
        },
        "id": "jh8FxbgGJ-6t",
        "outputId": "9b95e743-3aa1-48fe-9b03-dd37fa967a7a"
      },
      "execution_count": null,
      "outputs": [
        {
          "output_type": "execute_result",
          "data": {
            "text/plain": [
              "bool"
            ]
          },
          "metadata": {},
          "execution_count": 3
        }
      ]
    },
    {
      "cell_type": "markdown",
      "source": [
        "User Input\n",
        "The input() function is used to gather information entered by the user.\n",
        "Question 3\n",
        "Declare a variable user_name and assign your name\n",
        "Hint:\n",
        "Use input() function. (Refer Sample Input and Output)\n",
        "Algorithm:\n",
        "Declare a variable\n",
        "user_name\n",
        "Example Usage:\n",
        "user_age = input(\"Enter your age: \")\n",
        "Sample Input\n",
        "Enter your name: Alice"
      ],
      "metadata": {
        "id": "WqpfzzDVKke3"
      }
    },
    {
      "cell_type": "code",
      "source": [
        "user_name=input(\"Enter your age\")\n",
        "print(user_name)"
      ],
      "metadata": {
        "colab": {
          "base_uri": "https://localhost:8080/"
        },
        "id": "PkQ4q-KPK7oF",
        "outputId": "8aee1c3c-57f9-48a0-d76d-824038beede1"
      },
      "execution_count": null,
      "outputs": [
        {
          "output_type": "stream",
          "name": "stdout",
          "text": [
            "Enter your ageSalam\n",
            "Salam\n"
          ]
        }
      ]
    },
    {
      "cell_type": "markdown",
      "source": [
        "Displaying output using print()\n",
        "The print() function in Python is used to display the output\n",
        "Question 4\n",
        "Display the output using print() function\n",
        "(Refer Sample Input and Output)\n",
        "Hint:\n",
        "Use print() function\n",
        "Algorithm:\n",
        "Declare a variable\n",
        "user_age\n",
        "Use the input() function displaying the message \"Enter your age: \"\n",
        "Use the print() function to display the entered age\n",
        "Example Usage:\n",
        "print(f\"My name is {user_name}\")\n",
        "Sample Input\n",
        "Enter your age:\n",
        "Sample Output\n",
        "My age is 10"
      ],
      "metadata": {
        "id": "9AOTVbajLWfG"
      }
    },
    {
      "cell_type": "code",
      "source": [
        "user_age=input(\"Enter your age\")\n",
        "print(f\"My Name is\", user_name)\n",
        "print(f\"My age is\", user_age)"
      ],
      "metadata": {
        "colab": {
          "base_uri": "https://localhost:8080/"
        },
        "id": "zt3qAIMbLipc",
        "outputId": "d82478c4-1ab3-46b3-cefc-27d0f87bd42e"
      },
      "execution_count": null,
      "outputs": [
        {
          "output_type": "stream",
          "name": "stdout",
          "text": [
            "Enter your age45\n",
            "My Name is Salam\n",
            "My age is 45\n"
          ]
        }
      ]
    },
    {
      "cell_type": "markdown",
      "source": [
        "Arithmetic operators\n",
        "Arithmetic Operators in Python are symbols (+, -, *, /, %, * *) used to perform basic mathematicaloperations on numeric values.\n",
        "Question 5\n",
        "Perform addition, subtraction, multiplication, division, and exponentiation on two given numbers.\n",
        "Hint:\n",
        "Use the operators +, -, *, /, and * * for addition, subtraction, multiplication, division, andexponentiation respectively.\n",
        "Use round() method to display division result upto two decimal places.\n",
        "For example, if the division result is 3.3333333333333335, use round() to obtain 3.33.\n",
        "(Refer sample input and output)\n",
        "Algorithm:\n",
        "Declare two variables\n",
        "num1\n",
        "and\n",
        "num2\n",
        "Obtain the input value from the user. (Refer sample input)\n",
        "Calculate the sum, difference, multiple, divide, and exponentiation of the two numbers.\n",
        "Display the calculated results by using print() function.\n",
        "Sample Input:\n",
        "10\n",
        "3\n",
        "Sample Output:\n",
        "Sum: 13\n",
        "Difference: 7\n",
        "Multiplication: 30\n",
        "Division: 3.33\n",
        "Exponentiation: 1000"
      ],
      "metadata": {
        "id": "QNUBmh3PMk4l"
      }
    },
    {
      "cell_type": "code",
      "source": [
        "num1=int(input(\"Enter the num1 value\"))\n",
        "num2=int(input(\"Enter the num2 value\"))\n",
        "Add=num1+num2\n",
        "Sub=num1-num2\n",
        "Mul=num1*num2\n",
        "Div=num1/num2\n",
        "print(\"Addition:\", Add)\n",
        "print(\"Substraction:\", Sub)\n",
        "print(\"Multiplication:\", Mul)\n",
        "print(\"Division:\", Div)\n"
      ],
      "metadata": {
        "colab": {
          "base_uri": "https://localhost:8080/"
        },
        "id": "aI2dD2-8M0wW",
        "outputId": "6e7488f9-80ce-439a-c595-f2bd529343cb"
      },
      "execution_count": null,
      "outputs": [
        {
          "output_type": "stream",
          "name": "stdout",
          "text": [
            "Enter the num1 value10\n",
            "Enter the num2 value3\n",
            "Addition: 13\n",
            "Substraction: 7\n",
            "Multiplication: 30\n",
            "Division: 3.3333333333333335\n"
          ]
        }
      ]
    },
    {
      "cell_type": "markdown",
      "source": [
        "Modulo operator\n",
        "Arithmetic Operators in Python include the modulo operator (%), which returns the remainder ofthe division of two numbers.\n",
        "Question 6\n",
        "Perform a modulo operation on two given integers.\n",
        "Hint:\n",
        "Use the\n",
        "%\n",
        "operator for the modulo operation.\n",
        "(Refer sample input and Output)\n",
        "Algorithm:\n",
        "Declare two integer variables, num1 and num2.\n",
        "Obtain the input values from the user.\n",
        "Calculate the result of the modulo operation.\n",
        "Display the result using the print() function.\n",
        "Sample Input:\n",
        "Enter the first integer: 17\n",
        "Enter the second integer: 5\n",
        "Sample Output:\n",
        "Modulo Result: 2"
      ],
      "metadata": {
        "id": "arR2fmYiORb8"
      }
    },
    {
      "cell_type": "code",
      "source": [
        "num1=int(input(\"Enter the num1 value\"))\n",
        "num2=int(input(\"Enter the num2 value\"))\n",
        "Module=num1%num2\n",
        "print(\"The modulo value is\", Module)"
      ],
      "metadata": {
        "colab": {
          "base_uri": "https://localhost:8080/"
        },
        "id": "8e9UwKh9OcO7",
        "outputId": "d9930f27-96b0-48a2-e16f-74b475c7475d"
      },
      "execution_count": null,
      "outputs": [
        {
          "output_type": "stream",
          "name": "stdout",
          "text": [
            "Enter the num1 value17\n",
            "Enter the num2 value5\n",
            "The modulo value is 2\n"
          ]
        }
      ]
    },
    {
      "cell_type": "markdown",
      "source": [
        "Comparison Operators\n",
        "Comparison Operators in Python (==, !=, <, >, <=, >=) are used to compare values.\n",
        "Question 7\n",
        "Perform comparisons on two given numbers.\n",
        "Hint:\n",
        "Use the operators ==, !=, <, >, <=, and >= for equality, inequality, less than, greater than, less thanor equal to, and greater than or equal to comparisons respectively.\n",
        "(Refer to the Sample Input and Output)\n",
        "Algorithm:\n",
        "Declare two variables\n",
        "num1\n",
        "and\n",
        "num2\n",
        ".\n",
        "Obtain the input values from the user. (Refer sample input)\n",
        "Use comparison operators to compare the values\n",
        "Display the results using the print() function.\n",
        "Sample Input:\n",
        "10\n",
        "3\n",
        "Sample Output:\n",
        "Equal: False\n",
        "Not Equal: True\n",
        "Less than: False\n",
        "Greater than: True\n",
        "Less than or equal to: False\n",
        "Greater than or equal to: True"
      ],
      "metadata": {
        "id": "d_Tf_lWOPW76"
      }
    },
    {
      "cell_type": "code",
      "source": [
        "num1=int(input(\"Enter the num1 value\"))\n",
        "num2=int(input(\"Enter the num2 value\"))\n",
        "equal=num1==num2\n",
        "not_equal=num1!=num2\n",
        "less=num1<num2\n",
        "great=num1>num2\n",
        "less_equal=num1<=num2\n",
        "great_equal=num1>=num2\n",
        "print(\"Is num1 and num2 equal:\", equal)\n",
        "print(\"Is num1 and num2 not equal:\", not_equal)\n",
        "print(\"Is num1 lesser than num2:\", less)\n",
        "print(\"Is num1 greater than num2:\", great)\n",
        "print(\"Is num1 leasser than and equal to num2:\", less_equal)\n",
        "print(\"Is num1 greater than and eqaual to num2:\", great_equal)"
      ],
      "metadata": {
        "colab": {
          "base_uri": "https://localhost:8080/"
        },
        "id": "213wVU7OPi-C",
        "outputId": "e047b645-8d78-4779-870f-4ca3035668ff"
      },
      "execution_count": null,
      "outputs": [
        {
          "output_type": "stream",
          "name": "stdout",
          "text": [
            "Enter the num1 value10\n",
            "Enter the num2 value3\n",
            "Is num1 and num2 equal: False\n",
            "Is num1 and num2 not equal: True\n",
            "Is num1 lesser than num2: False\n",
            "Is num1 greater than num2: True\n",
            "Is num1 leasser than and equal to num2: False\n",
            "Is num1 greater than and eqaual to num2: True\n"
          ]
        }
      ]
    },
    {
      "cell_type": "markdown",
      "source": [
        "# **Logical Operators**\n",
        "Logical Operators in Python (and, or, not) are used to perform logical operations.\n",
        "\n",
        "\n",
        "Question 8\n",
        "Perform logical operations on two given boolean values.\n",
        "Hint:\n",
        "Use the operators and, or, and not for logical AND, logical OR, and logical NOT operationsrespectively.\n",
        "(Refer to the Sample Input and Output)\n",
        "Algorithm:\n",
        "Declare two boolean variables bool1 and bool2.\n",
        "Obtain the input boolean values from the user. (Refer sample input)\n",
        "Use logical operators to perform operations and display the results using the print() function.\n",
        "Sample Input:\n",
        "True\n",
        "False\n",
        "Sample Output:\n",
        "Logical AND: False\n",
        "Logical OR: True\n",
        "Logical NOT (bool1): False\n",
        "Logical NOT (bool2): True"
      ],
      "metadata": {
        "id": "cQqvYIipR_rY"
      }
    },
    {
      "cell_type": "code",
      "source": [
        "bool1=int(input(\"Enter the bool1 value\"))\n",
        "bool2=int(input(\"Enter the bool2 value\"))\n",
        "print(bool1>10 and bool2>10)\n",
        "print(bool1>10 or bool2>10)\n",
        "print(bool1>10 not bool2>10)"
      ],
      "metadata": {
        "id": "i-3knQFzSIra",
        "colab": {
          "base_uri": "https://localhost:8080/",
          "height": 141
        },
        "outputId": "0027644c-605a-4566-cb13-b8e42602f7e8"
      },
      "execution_count": 7,
      "outputs": [
        {
          "output_type": "error",
          "ename": "SyntaxError",
          "evalue": "invalid syntax. Perhaps you forgot a comma? (<ipython-input-7-b584bcb0128d>, line 5)",
          "traceback": [
            "\u001b[0;36m  File \u001b[0;32m\"<ipython-input-7-b584bcb0128d>\"\u001b[0;36m, line \u001b[0;32m5\u001b[0m\n\u001b[0;31m    print(bool1>10 not bool2>10)\u001b[0m\n\u001b[0m          ^\u001b[0m\n\u001b[0;31mSyntaxError\u001b[0m\u001b[0;31m:\u001b[0m invalid syntax. Perhaps you forgot a comma?\n"
          ]
        }
      ]
    },
    {
      "cell_type": "markdown",
      "source": [
        "# Identity Operators\n",
        "\n",
        "Identity Operators in Python (is, is not) are used to compare object identities.\n",
        "\n",
        "Question 9\n",
        "Perform identity comparisons on two given objects.\n",
        "\n",
        "Hint:\n",
        "Use the operators\n",
        "is\n",
        "and\n",
        "is not\n",
        "for checking object identity.\n",
        "\n",
        "Algorithm:Declare two variables and assign value as\n",
        "obj1 = \"hello\"\n",
        "obj2 = \"hello world\"\n",
        "Perform identity comparisons using identity operators\n",
        "Display the results using the print() function.\n",
        "\n",
        "Sample Output:\n",
        "is: True\n",
        "is not: False"
      ],
      "metadata": {
        "id": "x4yUNi4wSmTY"
      }
    },
    {
      "cell_type": "code",
      "source": [
        "obj1=\"hello\"\n",
        "obj2=\"hello world\"\n",
        "print(\"is:\", obj1 is obj2)\n",
        "print(\"is not:\", obj1 is not obj2)\n"
      ],
      "metadata": {
        "colab": {
          "base_uri": "https://localhost:8080/"
        },
        "id": "FOihST8bTBPF",
        "outputId": "fb52cf24-6b1a-4cc3-f491-fc7b55f5ffd4"
      },
      "execution_count": 25,
      "outputs": [
        {
          "output_type": "stream",
          "name": "stdout",
          "text": [
            "is: False\n",
            "is not: True\n"
          ]
        }
      ]
    },
    {
      "cell_type": "markdown",
      "source": [
        "# Membership operator\n",
        "\n",
        "Membership Operators in Python (in, not in) are used to test whether a value or variable is foundin a sequence.\n",
        "\n",
        "\n",
        "Question 10\n",
        "Perform membership tests on a given sequence.\n",
        "\n",
        "Hint:\n",
        "Use the operators\n",
        "in\n",
        "and\n",
        "not in\n",
        "for membership testing.\n",
        "\n",
        "Algorithm:\n",
        "Declare a variable fruits and item as\n",
        "var1 = \"Apple is a fruit\"\n",
        "var2 = \"Apple\"\n",
        "Perform membership tests using membership operators\n",
        "Display the results using the print() function.\n",
        "\n",
        "Sample Output:\n",
        "in: True\n",
        "not in: False"
      ],
      "metadata": {
        "id": "pgFgSyxFTzaQ"
      }
    },
    {
      "cell_type": "code",
      "source": [
        "var1=\"Apple is a fruit\"\n",
        "var2=\"Apple\"\n",
        "print(\"is:\", var1 in var2)\n",
        "print(\"is not:\", var1 not in var2)"
      ],
      "metadata": {
        "colab": {
          "base_uri": "https://localhost:8080/"
        },
        "id": "CP1RXoUFUBOe",
        "outputId": "cd185bb3-9c5a-4d5f-aa44-2f35dfe5f95e"
      },
      "execution_count": 23,
      "outputs": [
        {
          "output_type": "stream",
          "name": "stdout",
          "text": [
            "is: False\n",
            "is not: True\n"
          ]
        }
      ]
    }
  ]
}