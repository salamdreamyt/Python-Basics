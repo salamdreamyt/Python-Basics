{
  "nbformat": 4,
  "nbformat_minor": 0,
  "metadata": {
    "colab": {
      "provenance": []
    },
    "kernelspec": {
      "name": "python3",
      "display_name": "Python 3"
    },
    "language_info": {
      "name": "python"
    }
  },
  "cells": [
    {
      "cell_type": "markdown",
      "source": [
        "# While loop\n",
        "\n",
        "Ques-1\n",
        "Write a Python program to take 5 integers from user using a while loop and print their average value.\n"
      ],
      "metadata": {
        "id": "BzH-StUeCv1z"
      }
    },
    {
      "cell_type": "code",
      "source": [
        "sum=0\n",
        "count=0\n",
        "while count <5:\n",
        "      num=int(input(\"Enter the value \"))\n",
        "      sum+=num\n",
        "      count+=1\n",
        "if count>0:\n",
        "  avg=sum/count\n",
        "  print(avg)\n",
        "else:\n",
        "  print(\"correct value\")"
      ],
      "metadata": {
        "colab": {
          "base_uri": "https://localhost:8080/"
        },
        "id": "rdna4bGqGebd",
        "outputId": "113969c6-0b15-413d-9a20-b3d0a99f5c18"
      },
      "execution_count": null,
      "outputs": [
        {
          "output_type": "stream",
          "name": "stdout",
          "text": [
            "Enter the value 10\n",
            "Enter the value 20\n",
            "Enter the value 40\n",
            "Enter the value 50\n",
            "Enter the value 70\n",
            "38.0\n"
          ]
        }
      ]
    },
    {
      "cell_type": "markdown",
      "source": [
        "Ques-2\n",
        "\n",
        "Find greatest common divisor (GCD) or highest common factor two given numbers"
      ],
      "metadata": {
        "id": "RA1bqI2BGeH9"
      }
    },
    {
      "cell_type": "code",
      "source": [
        "def GCD(a,b):\n",
        "  while b!=0:\n",
        "    a,b=b, a%b\n",
        "  return a\n",
        "\n",
        "a=int(input(\"Enter the number 1 \"))\n",
        "b=int(input(\"Enter the number 2 \"))\n",
        "\n",
        "gcd=GCD(a,b)\n",
        "print(\"The GCD of \", a, \"and \", b,\"is\", gcd)"
      ],
      "metadata": {
        "colab": {
          "base_uri": "https://localhost:8080/"
        },
        "id": "njLCx4ssKA_e",
        "outputId": "1b8fa74b-6f88-4156-8167-1d84a55d2d14"
      },
      "execution_count": null,
      "outputs": [
        {
          "output_type": "stream",
          "name": "stdout",
          "text": [
            "Enter the number 1 36\n",
            "Enter the number 2 48\n",
            "The GCD of  36 and  48 is 12\n"
          ]
        }
      ]
    },
    {
      "cell_type": "markdown",
      "source": [
        "# Nested loop\n",
        "\n",
        "Ques=3\n",
        "write a program using nested loops to create a pattern of number in the shape of a right-agnled"
      ],
      "metadata": {
        "id": "C7-B5vI2N_0-"
      }
    },
    {
      "cell_type": "code",
      "source": [
        "rows=int(input(\"Enter the row limit \"))\n",
        "for i in range (1,rows+1):\n",
        "  for j in range (1,i+1):\n",
        "    print(i, end=\" \")\n",
        "  print()\n"
      ],
      "metadata": {
        "colab": {
          "base_uri": "https://localhost:8080/"
        },
        "id": "ZN1Wn0BcOpS2",
        "outputId": "4ba82804-95b1-46f2-80e9-29d19ea37944"
      },
      "execution_count": null,
      "outputs": [
        {
          "output_type": "stream",
          "name": "stdout",
          "text": [
            "Enter the row limit 10\n",
            "1 \n",
            "2 2 \n",
            "3 3 3 \n",
            "4 4 4 4 \n",
            "5 5 5 5 5 \n",
            "6 6 6 6 6 6 \n",
            "7 7 7 7 7 7 7 \n",
            "8 8 8 8 8 8 8 8 \n",
            "9 9 9 9 9 9 9 9 9 \n",
            "10 10 10 10 10 10 10 10 10 10 \n"
          ]
        }
      ]
    },
    {
      "cell_type": "markdown",
      "source": [
        "Ques.4\n",
        "\n",
        "Write a program using nested loops to create pattern of asterisks (*) in shape of righ-angled triangle\n"
      ],
      "metadata": {
        "id": "MpBCPFY2RlJA"
      }
    },
    {
      "cell_type": "code",
      "source": [
        "rows=int(input(\"Enter the row limit \"))\n",
        "for i in range (1,rows+1):\n",
        "  for j in range (1,i+1):\n",
        "    print(\"*\", end=\" \")\n",
        "  print()"
      ],
      "metadata": {
        "colab": {
          "base_uri": "https://localhost:8080/"
        },
        "id": "7NG_fDXySguM",
        "outputId": "960b70ee-029a-4818-f868-dd88cf1d8c04"
      },
      "execution_count": null,
      "outputs": [
        {
          "output_type": "stream",
          "name": "stdout",
          "text": [
            "Enter the row limit 2\n",
            "* \n",
            "* * \n"
          ]
        }
      ]
    },
    {
      "cell_type": "markdown",
      "source": [
        "Ques-5\n",
        "\n",
        "Write a python program to sort a given list of numbers in decending order.\n",
        "\n"
      ],
      "metadata": {
        "id": "XMaVwnr6T3tK"
      }
    },
    {
      "cell_type": "code",
      "source": [
        "sorted((23,57,72,23,29))"
      ],
      "metadata": {
        "colab": {
          "base_uri": "https://localhost:8080/"
        },
        "id": "e2UXbjrDUTOZ",
        "outputId": "d874b96a-a3c7-48d8-a9f9-ec47a6a8ce10"
      },
      "execution_count": null,
      "outputs": [
        {
          "output_type": "execute_result",
          "data": {
            "text/plain": [
              "[23, 23, 29, 57, 72]"
            ]
          },
          "metadata": {},
          "execution_count": 47
        }
      ]
    },
    {
      "cell_type": "markdown",
      "source": [
        "Build in function\n",
        "\n",
        "\n",
        "Ques-6"
      ],
      "metadata": {
        "id": "WoQVQ8x_U-fD"
      }
    },
    {
      "cell_type": "code",
      "source": [
        "name=input(\"Enter your name \")\n",
        "print(\"Hello, \", name,\"!\" \" Welcome to the program\")"
      ],
      "metadata": {
        "colab": {
          "base_uri": "https://localhost:8080/"
        },
        "id": "5LvEp_bIVYXS",
        "outputId": "699ece6d-a83d-4410-d1e9-0c796154a943"
      },
      "execution_count": null,
      "outputs": [
        {
          "output_type": "stream",
          "name": "stdout",
          "text": [
            "Enter your name Salam\n",
            "Hello,  Salam ! Welcome to the program\n"
          ]
        }
      ]
    },
    {
      "cell_type": "markdown",
      "source": [
        "Ques-7\n",
        "\n",
        "Find the length of the strive and determine its data type"
      ],
      "metadata": {
        "id": "0ULnlQg4WX40"
      }
    },
    {
      "cell_type": "code",
      "source": [
        "text=input(\"Enter you text\")\n",
        "x=len(text)\n",
        "y=type(text)\n",
        "print(\"Length of the string \", x)\n",
        "print(\"Data type of the strig: \",y)"
      ],
      "metadata": {
        "colab": {
          "base_uri": "https://localhost:8080/"
        },
        "id": "MK3YsRM7WhoC",
        "outputId": "106e2225-191a-4f4d-ec62-6473f175e951"
      },
      "execution_count": null,
      "outputs": [
        {
          "output_type": "stream",
          "name": "stdout",
          "text": [
            "Enter you textpython\n",
            "Length of the string  6\n",
            "Data type of the strig:  <class 'str'>\n"
          ]
        }
      ]
    },
    {
      "cell_type": "markdown",
      "source": [
        "Ques-8\n",
        "\n",
        "Convert the input to an integer, float, str"
      ],
      "metadata": {
        "id": "9LHMUZ1EYU2c"
      }
    },
    {
      "cell_type": "code",
      "source": [
        "x=input(\"Enter the number \")\n",
        "y=int(x)\n",
        "z=float(x)\n",
        "a=str(x)\n",
        "print(\"As integer \",y)\n",
        "print(\"As float \",z)\n",
        "print(\"As String \",a)"
      ],
      "metadata": {
        "colab": {
          "base_uri": "https://localhost:8080/"
        },
        "id": "fevglpatYRzJ",
        "outputId": "fcd4b8e8-a64c-44d1-c66c-92ed7e41d1fb"
      },
      "execution_count": null,
      "outputs": [
        {
          "output_type": "stream",
          "name": "stdout",
          "text": [
            "Enter the number 42\n",
            "As integer  42\n",
            "As float  42.0\n",
            "As String  42\n"
          ]
        }
      ]
    },
    {
      "cell_type": "markdown",
      "source": [
        "Ques-9\n",
        "\n",
        "Use range() to create sequence of numbers\n",
        "\n",
        "convert sequence to list"
      ],
      "metadata": {
        "id": "AWTqQmVTZdvh"
      }
    },
    {
      "cell_type": "code",
      "source": [
        "x=range(1,6)\n",
        "l1=list(x)\n",
        "t1=tuple(x)\n",
        "s=set(x)\n",
        "\n",
        "print(\"As list \",l1)\n",
        "print(\"As Tuple \", t1)\n",
        "print(\"As Set \", s)"
      ],
      "metadata": {
        "colab": {
          "base_uri": "https://localhost:8080/"
        },
        "id": "YnHYlgTUZlwh",
        "outputId": "59124096-bb82-4710-f2e0-02dc39c484fc"
      },
      "execution_count": null,
      "outputs": [
        {
          "output_type": "stream",
          "name": "stdout",
          "text": [
            "As list  [1, 2, 3, 4, 5]\n",
            "As Tuple  (1, 2, 3, 4, 5)\n",
            "As Set  {1, 2, 3, 4, 5}\n"
          ]
        }
      ]
    },
    {
      "cell_type": "markdown",
      "source": [
        "Ques-10\n",
        "\n",
        "Write a python program to calculate the sum of the elements in a given list"
      ],
      "metadata": {
        "id": "q6obpQinWXyh"
      }
    },
    {
      "cell_type": "code",
      "source": [
        "def sum_list(lst):\n",
        "  sum=0\n",
        "  for num in lst:\n",
        "    sum+=num\n",
        "  return sum\n",
        "\n",
        "l1=[23,5,2,6,1]\n",
        "Sum=sum_list(l1)\n",
        "print(Sum)"
      ],
      "metadata": {
        "colab": {
          "base_uri": "https://localhost:8080/"
        },
        "id": "KCZZyTi-WRQa",
        "outputId": "4c89a2aa-fe9e-4514-b879-77a92fa6c2a3"
      },
      "execution_count": null,
      "outputs": [
        {
          "output_type": "stream",
          "name": "stdout",
          "text": [
            "37\n"
          ]
        }
      ]
    },
    {
      "cell_type": "markdown",
      "source": [
        "Ques-11\n",
        "\n",
        "Write a python program to find the absolute value of given number"
      ],
      "metadata": {
        "id": "qlnjJ53fhfIU"
      }
    },
    {
      "cell_type": "code",
      "source": [
        "x=-10\n",
        "y=abs(x)\n",
        "print(y)"
      ],
      "metadata": {
        "colab": {
          "base_uri": "https://localhost:8080/"
        },
        "id": "wOK3-D4Lhpdt",
        "outputId": "ad4939a8-c65d-4a86-d34a-52cb1a200795"
      },
      "execution_count": null,
      "outputs": [
        {
          "output_type": "stream",
          "name": "stdout",
          "text": [
            "10\n"
          ]
        }
      ]
    },
    {
      "cell_type": "markdown",
      "source": [
        "Ques-12\n",
        "\n",
        "Write a python program to round of a floating point number"
      ],
      "metadata": {
        "id": "IKsmAzTxiTLB"
      }
    },
    {
      "cell_type": "code",
      "source": [
        "x=3.14159\n",
        "y=round(x)\n",
        "print(y)"
      ],
      "metadata": {
        "colab": {
          "base_uri": "https://localhost:8080/"
        },
        "id": "RgU3Epr5ieNT",
        "outputId": "76973f92-6b70-4aeb-db3f-a808e8467c5e"
      },
      "execution_count": null,
      "outputs": [
        {
          "output_type": "stream",
          "name": "stdout",
          "text": [
            "3\n"
          ]
        }
      ]
    },
    {
      "cell_type": "markdown",
      "source": [
        "Ques-13\n",
        "\n",
        "Write a python program to find the minimum and maximum values in a given list.\n"
      ],
      "metadata": {
        "id": "ggYqxkGRijx5"
      }
    },
    {
      "cell_type": "code",
      "source": [
        "l1=[23,5,20,6,10]\n",
        "x=min(l1)\n",
        "y=max(l1)\n",
        "print(\"The Minumum value is \",x)\n",
        "print(\"The Maximum Value is \", y)"
      ],
      "metadata": {
        "colab": {
          "base_uri": "https://localhost:8080/"
        },
        "id": "Sg5N6lf5h6oz",
        "outputId": "c626604e-9609-471d-83c0-59a61840ba29"
      },
      "execution_count": 6,
      "outputs": [
        {
          "output_type": "stream",
          "name": "stdout",
          "text": [
            "The Minumum value is  5\n",
            "The Maximum Value is  23\n"
          ]
        }
      ]
    },
    {
      "cell_type": "markdown",
      "source": [
        "Ques-14\n",
        "\n",
        "Write a python program to sort a given list of numbers in a ascending order"
      ],
      "metadata": {
        "id": "Wg3eGHBXieCq"
      }
    },
    {
      "cell_type": "code",
      "source": [
        "l1=[23,5,2,6,1]\n",
        "x=sorted(l1)\n",
        "print(\"Sorted List \", x)"
      ],
      "metadata": {
        "colab": {
          "base_uri": "https://localhost:8080/"
        },
        "id": "UfFZMInSiocS",
        "outputId": "7c2d137f-67ad-4fce-e843-25052734fb97"
      },
      "execution_count": 7,
      "outputs": [
        {
          "output_type": "stream",
          "name": "stdout",
          "text": [
            "Sorted List  [1, 2, 5, 6, 23]\n"
          ]
        }
      ]
    },
    {
      "cell_type": "markdown",
      "source": [],
      "metadata": {
        "id": "40unKgg_i4Ty"
      }
    }
  ]
}