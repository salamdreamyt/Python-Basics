{
  "nbformat": 4,
  "nbformat_minor": 0,
  "metadata": {
    "colab": {
      "provenance": []
    },
    "kernelspec": {
      "name": "python3",
      "display_name": "Python 3"
    },
    "language_info": {
      "name": "python"
    }
  },
  "cells": [
    {
      "cell_type": "markdown",
      "source": [
        "# Python Sets\n",
        "\n",
        "Set is a data type in python used to store several items in a single variable. It is a collection thatis written with curly brackets and is both unindexed and unordered."
      ],
      "metadata": {
        "id": "63a-0ru8BLmK"
      }
    },
    {
      "cell_type": "markdown",
      "source": [
        "uestion 1:\n",
        "Create a Python set named fruits with the elements 'apple', 'banana', and 'orange'.\n",
        "\n",
        "Hints:\n",
        "Use curly braces {} to define a set.\n",
        "\n",
        "Example: fruits = {'apple', 'mango', }.\n",
        "\n",
        "Algorithm:\n",
        "Define a set named fruits with elements 'apple', 'banana', and 'orange'.\n",
        "Display the set.\n",
        "\n",
        "Sample Output:\n",
        "Fruits set: {'apple', 'banana', 'orange'}"
      ],
      "metadata": {
        "id": "P09OP5B2B98c"
      }
    },
    {
      "cell_type": "code",
      "execution_count": null,
      "metadata": {
        "colab": {
          "base_uri": "https://localhost:8080/"
        },
        "id": "J6h0j5YYA5R7",
        "outputId": "2cc492bb-b8d0-47a8-a83e-c5456b1dea2b"
      },
      "outputs": [
        {
          "output_type": "stream",
          "name": "stdout",
          "text": [
            "{'orange', 'banana', 'apple'}\n"
          ]
        }
      ],
      "source": [
        "fruits={'apple','banana','orange'}\n",
        "print(fruits)"
      ]
    },
    {
      "cell_type": "markdown",
      "source": [
        "Question 2:\n",
        "Add a new fruit, 'grape', to the existing fruits set.\n",
        "\n",
        "Hints:\n",
        "Use the add method to add an element to a set.\n",
        "\n",
        "Example: fruits.add('pineapple').\n",
        "\n",
        "Algorithm:\n",
        "Use the add method to add 'grape' to the fruits set.\n",
        "Display the updated set.\n",
        "\n",
        "Sample Output:\n",
        "Updated Fruits set: {'apple', 'banana', 'orange', 'grape'}"
      ],
      "metadata": {
        "id": "4Vt_8Ka1DlTx"
      }
    },
    {
      "cell_type": "code",
      "source": [
        "fruits.add(\"grape\")\n",
        "print(fruits)"
      ],
      "metadata": {
        "colab": {
          "base_uri": "https://localhost:8080/"
        },
        "id": "3LsRwTMwEIfy",
        "outputId": "10c4b69d-5d90-478e-b0ab-84ea830fec03"
      },
      "execution_count": null,
      "outputs": [
        {
          "output_type": "stream",
          "name": "stdout",
          "text": [
            "{'grape', 'orange', 'banana', 'apple'}\n"
          ]
        }
      ]
    },
    {
      "cell_type": "markdown",
      "source": [
        "Question 3:\n",
        "Remove 'banana' from the fruits set.\n",
        "\n",
        "Hints:\n",
        "Use the remove method to remove a specific element.\n",
        "\n",
        "Example: fruits.remove('kiwi').\n",
        "\n",
        "Algorithm:\n",
        "Use the remove method to remove 'banana' from the fruits set.\n",
        "Display the updated set.\n",
        "\n",
        "Sample Output:\n",
        "Updated Fruits set: {'apple', 'orange', 'grape'}"
      ],
      "metadata": {
        "id": "sR3JTMJOEHkz"
      }
    },
    {
      "cell_type": "code",
      "source": [
        "fruits.remove(\"banana\")\n",
        "print(fruits)"
      ],
      "metadata": {
        "colab": {
          "base_uri": "https://localhost:8080/"
        },
        "id": "gBscGb1gLHXz",
        "outputId": "8054ee5d-debf-4045-c2d7-b2801c52fc12"
      },
      "execution_count": null,
      "outputs": [
        {
          "output_type": "stream",
          "name": "stdout",
          "text": [
            "{'grape', 'orange', 'apple'}\n"
          ]
        }
      ]
    },
    {
      "cell_type": "markdown",
      "source": [
        "Question 4:\n",
        "Create a new set named colors with the elements 'red', 'green', and 'blue'.\n",
        "\n",
        "Hints:\n",
        "Use curly braces {} to define a set.\n",
        "\n",
        "Example: colors = {'red', 'black'}.\n",
        "\n",
        "Algorithm:\n",
        "Define a set named colors with elements 'red', 'green', and 'blue'.\n",
        "Display the set.\n",
        "\n",
        "Sample Output:\n",
        "Colors set: {'red', 'green', 'blue'}"
      ],
      "metadata": {
        "id": "J1Hj0JW4LqGS"
      }
    },
    {
      "cell_type": "code",
      "source": [
        "colors={'red','green', 'blue'}\n",
        "print(colors)"
      ],
      "metadata": {
        "colab": {
          "base_uri": "https://localhost:8080/"
        },
        "id": "UD6XFcTXLsK6",
        "outputId": "d63023e8-7831-4e8b-942e-87b43b092f4d"
      },
      "execution_count": null,
      "outputs": [
        {
          "output_type": "stream",
          "name": "stdout",
          "text": [
            "{'green', 'red', 'blue'}\n"
          ]
        }
      ]
    },
    {
      "cell_type": "markdown",
      "source": [
        "Question 5:\n",
        "Use the union method to combine the fruits and colors sets into a single set.\n",
        "\n",
        "Hints:\n",
        "Use the union method to combine sets.\n",
        "\n",
        "Example: combined_set = set1.union(set2).\n",
        "\n",
        "Algorithm:\n",
        "Use the union method to combine the fruits and colors sets.\n",
        "Display the combined set.\n",
        "\n",
        "Sample Output:\n",
        "Combined set: {'apple', 'orange', 'grape', 'red', 'green', 'blue'}"
      ],
      "metadata": {
        "id": "n9vTNYhEOZJy"
      }
    },
    {
      "cell_type": "code",
      "source": [
        "fruits.union(colors)"
      ],
      "metadata": {
        "colab": {
          "base_uri": "https://localhost:8080/"
        },
        "id": "-A-ChulrGeon",
        "outputId": "e5d4178e-3594-458f-8c59-cb6fad25e8c8"
      },
      "execution_count": null,
      "outputs": [
        {
          "output_type": "execute_result",
          "data": {
            "text/plain": [
              "{'apple', 'blue', 'grape', 'green', 'orange', 'red'}"
            ]
          },
          "metadata": {},
          "execution_count": 5
        }
      ]
    },
    {
      "cell_type": "markdown",
      "source": [
        "Question 6:\n",
        "Use the difference method to find the elements that are unique to the fruits set.\n",
        "\n",
        "Hints:\n",
        "Use the difference method to find unique elements.\n",
        "\n",
        "Example: unique_elements = set1.difference(set2).\n",
        "\n",
        "Algorithm:\n",
        "Use the difference method to find the elements that are unique to the fruits set.\n",
        "Display the unique elements.\n",
        "\n",
        "Sample Output:\n",
        "Unique elements in Fruits set: {'grape', 'apple', 'orange'}"
      ],
      "metadata": {
        "id": "VaVV-1IuGy6o"
      }
    },
    {
      "cell_type": "code",
      "source": [
        "fruits.difference(colors)"
      ],
      "metadata": {
        "colab": {
          "base_uri": "https://localhost:8080/"
        },
        "id": "8ByJvIORG3-o",
        "outputId": "920c1eb8-792f-4559-8961-6fdff7f3e525"
      },
      "execution_count": null,
      "outputs": [
        {
          "output_type": "execute_result",
          "data": {
            "text/plain": [
              "{'apple', 'grape', 'orange'}"
            ]
          },
          "metadata": {},
          "execution_count": 6
        }
      ]
    },
    {
      "cell_type": "markdown",
      "source": [
        "Question 7:\n",
        "Check if the colors set is a subset of the fruits set.\n",
        "\n",
        "Hints:\n",
        "Use the issubset method to check if a set is a subset of another.\n",
        "\n",
        "Example: is_subset = set1.issubset(set2).\n",
        "\n",
        "Algorithm:\n",
        "Use the issubset method to check if the colors set is a subset of the fruits set.\n",
        "Display the result.\n",
        "\n",
        "Sample Output:\n",
        "Colors set is not a subset of Fruits set."
      ],
      "metadata": {
        "id": "EW1yn8C3HIWI"
      }
    },
    {
      "cell_type": "code",
      "source": [
        "fruits.issubset(colors)"
      ],
      "metadata": {
        "colab": {
          "base_uri": "https://localhost:8080/"
        },
        "id": "WrZreE3xHJdR",
        "outputId": "bddd563f-4aa8-4c44-cde3-aa2630bfc61a"
      },
      "execution_count": null,
      "outputs": [
        {
          "output_type": "execute_result",
          "data": {
            "text/plain": [
              "False"
            ]
          },
          "metadata": {},
          "execution_count": 7
        }
      ]
    },
    {
      "cell_type": "markdown",
      "source": [
        "# Dictionary Methods\n",
        "\n",
        "Python dictionary methods is collection of Python functions that operates on Dictionary. PythonDictionary is like a map that is used to store data in the form of a key: value pair.\n",
        "\n",
        "Question 8:\n",
        "Create a Python dictionary named student with keys 'name', 'age', and 'grade' and correspondingvalues 'Alice', 15, and 'A'.\n",
        "\n",
        "Hints:\n",
        "Use curly braces {} to define a dictionary.\n",
        "\n",
        "Example: student = {'name': 'Alice', 'age': 15}.\n",
        "\n",
        "Algorithm:Define a dictionary named student with keys 'name', 'age', and 'grade' and corresponding values.\n",
        "Display the dictionary.\n",
        "\n",
        "Sample Output:\n",
        "Student dictionary: {'name': 'Alice', 'age': 15, 'grade': 'A'}"
      ],
      "metadata": {
        "id": "xxt3QshhH0N4"
      }
    },
    {
      "cell_type": "code",
      "source": [
        "student={\"name\":\"Alice\",\"age\":15,\"grade\":\"A\"}\n",
        "print(student)"
      ],
      "metadata": {
        "colab": {
          "base_uri": "https://localhost:8080/"
        },
        "id": "R-c_1hOZTyaR",
        "outputId": "f9c3baff-07d1-4365-b784-007d44202c57"
      },
      "execution_count": null,
      "outputs": [
        {
          "output_type": "stream",
          "name": "stdout",
          "text": [
            "{'name': 'Alice', 'age': 15, 'grade': 'A'}\n"
          ]
        }
      ]
    },
    {
      "cell_type": "markdown",
      "source": [
        "Question 9:\n",
        "Access the 'age' value from the student dictionary and display it.\n",
        "\n",
        "Hints:\n",
        "Use square brackets [] for key access.\n",
        "Example: Name = student['name'].\n",
        "\n",
        "Algorithm:\n",
        "Declare as age_value.\n",
        "Access the 'age' value from the student dictionary.\n",
        "\n",
        "Display the result.\n",
        "\n",
        "Sample Output:\n",
        "Age: 15"
      ],
      "metadata": {
        "id": "TpEZyffrUUri"
      }
    },
    {
      "cell_type": "code",
      "source": [
        "Name=student[\"name\"]\n",
        "print(Name)"
      ],
      "metadata": {
        "colab": {
          "base_uri": "https://localhost:8080/"
        },
        "id": "hadKyaDYUZR3",
        "outputId": "1b1ff86f-d0ae-4465-b254-40ee67943502"
      },
      "execution_count": null,
      "outputs": [
        {
          "output_type": "stream",
          "name": "stdout",
          "text": [
            "Alice\n"
          ]
        }
      ]
    },
    {
      "cell_type": "markdown",
      "source": [
        "Question 10:\n",
        "Update the 'grade' value in the student dictionary to 'B'.\n",
        "\n",
        "Hints:\n",
        "Use square brackets [] for key access.\n",
        "\n",
        "Example: student['name'] = 'John'.\n",
        "\n",
        "Algorithm:\n",
        "Update the 'grade' value in the student dictionary to 'B'.\n",
        "Display the updated dictionary.\n",
        "\n",
        "Sample Output:\n",
        "Updated Student dictionary: {'name': 'Alice', 'age': 15, 'grade': 'B'}"
      ],
      "metadata": {
        "id": "1dIH1e5tUyp4"
      }
    },
    {
      "cell_type": "code",
      "source": [
        "student[\"grade\"]=\"B\"\n",
        "print(student)"
      ],
      "metadata": {
        "colab": {
          "base_uri": "https://localhost:8080/"
        },
        "id": "fesTzGo2U4uc",
        "outputId": "9c65ce29-818f-42ac-8fa7-55efde6145bc"
      },
      "execution_count": null,
      "outputs": [
        {
          "output_type": "stream",
          "name": "stdout",
          "text": [
            "{'name': 'Alice', 'age': 15, 'grade': 'B'}\n"
          ]
        }
      ]
    },
    {
      "cell_type": "markdown",
      "source": [
        "# Dictionary Methods\n",
        "\n",
        "Python dictionary methods is collection of Python functions that operates on Dictionary. Python Dictionary is like a map that is used to store data in the form of a key: value pair.\n",
        "\n",
        "Question 11:\n",
        "Use the keys method to get the list of keys from the student dictionary.\n",
        "\n",
        "Hints:\n",
        "Use the keys method to retrieve keys.\n",
        "\n",
        "Example: value_list = dictionary.values().\n",
        "\n",
        "Algorithm:\n",
        "Use the keys method to get the list of keys from the student dictionary.\n",
        "Display the list of keys.\n",
        "\n",
        "Sample Output:\n",
        "List of keys: ['name', 'age', 'grade']\n"
      ],
      "metadata": {
        "id": "DGgj8Zh3VOA6"
      }
    },
    {
      "cell_type": "code",
      "source": [
        "student_list=student.keys()\n",
        "print(student_list)"
      ],
      "metadata": {
        "colab": {
          "base_uri": "https://localhost:8080/"
        },
        "id": "ydEIItHcXrJT",
        "outputId": "073deb9f-40a0-4352-df54-cd374290f4ab"
      },
      "execution_count": null,
      "outputs": [
        {
          "output_type": "stream",
          "name": "stdout",
          "text": [
            "dict_keys(['name', 'age', 'grade'])\n"
          ]
        }
      ]
    },
    {
      "cell_type": "markdown",
      "source": [
        "Question 12:\n",
        "Use the values method to get the list of values from the student dictionary.\n",
        "\n",
        "Hints:\n",
        "Use the values method to retrieve values.\n",
        "\n",
        "Algorithm:\n",
        "Use the values method to get the list of values from the student dictionary.\n",
        "Display the list of values.\n",
        "\n",
        "Sample Output:\n",
        "List of values: ['Alice', 15, 'B']"
      ],
      "metadata": {
        "id": "xf-jCnzXX3tO"
      }
    },
    {
      "cell_type": "code",
      "source": [
        "student_list=student.values()\n",
        "print(student_list)"
      ],
      "metadata": {
        "colab": {
          "base_uri": "https://localhost:8080/"
        },
        "id": "opZ8vKU1Vbxb",
        "outputId": "644c13f3-3645-4475-e6ec-4dc80840ad7a"
      },
      "execution_count": null,
      "outputs": [
        {
          "output_type": "stream",
          "name": "stdout",
          "text": [
            "dict_values(['Alice', 15, 'A'])\n"
          ]
        }
      ]
    },
    {
      "cell_type": "markdown",
      "source": [
        "Question 13:\n",
        "Use the items method to get the list of key-value pairs from the student dictionary.\n",
        "\n",
        "Hints:\n",
        "Use the items method to retrieve key-value pairs.\n",
        "\n",
        "Example: item_list = dictionary.items().\n",
        "\n",
        "Algorithm:\n",
        "Use the items method to get the list of key-value pairs from the student dictionary.\n",
        "Display the list of key-value pairs.\n",
        "\n",
        "Sample Output:\n",
        "List of items: [('name', 'Alice'), ('age', 15), ('grade', 'B')]"
      ],
      "metadata": {
        "id": "20fnUy1rX_xA"
      }
    },
    {
      "cell_type": "code",
      "source": [
        "student_list=student.items()\n",
        "print(student_list)"
      ],
      "metadata": {
        "colab": {
          "base_uri": "https://localhost:8080/"
        },
        "id": "pxCl66KJYLRA",
        "outputId": "8d16122d-62dd-4eab-8f24-07e0ad946fc3"
      },
      "execution_count": null,
      "outputs": [
        {
          "output_type": "stream",
          "name": "stdout",
          "text": [
            "dict_items([('name', 'Alice'), ('age', 15), ('grade', 'A')])\n"
          ]
        }
      ]
    },
    {
      "cell_type": "markdown",
      "source": [
        "Question 14:\n",
        "Check if the key 'grade' is present in the student dictionary.\n",
        "\n",
        "Hints:\n",
        "Use the in keyword for key presence check.\n",
        "\n",
        "Example: if 'name' in dictionary:.\n",
        "\n",
        "Algorithm:\n",
        "Check if the key 'grade' is present in the student dictionary using the in keyword.\n",
        "Display the result.\n",
        "\n",
        "Sample Output:\n",
        "'grade' is present in the dictionary."
      ],
      "metadata": {
        "id": "XGLr9EFnYsOg"
      }
    },
    {
      "cell_type": "code",
      "source": [
        "if \"grade\" in student:\n",
        "  print(\"Yes, grade in studnet\")"
      ],
      "metadata": {
        "colab": {
          "base_uri": "https://localhost:8080/"
        },
        "id": "GU5h7R_-Y0dx",
        "outputId": "fe25c4b1-c625-4136-922a-2431c74ad451"
      },
      "execution_count": null,
      "outputs": [
        {
          "output_type": "stream",
          "name": "stdout",
          "text": [
            "Yes, grade in studnet\n"
          ]
        }
      ]
    },
    {
      "cell_type": "markdown",
      "source": [
        "# Class learning practice :\n",
        "\n",
        "**Adding** Values to the Dictionary\n",
        "\n",
        "```\n",
        "# This is formatted as code\n",
        "```\n",
        "\n"
      ],
      "metadata": {
        "id": "FeYSwFelaGzg"
      }
    },
    {
      "cell_type": "code",
      "source": [
        "student[\"Year\"]=\"First\"\n",
        "print(student)"
      ],
      "metadata": {
        "colab": {
          "base_uri": "https://localhost:8080/"
        },
        "id": "xQ8B2S3lbJTP",
        "outputId": "4c6bdcb4-6ccd-4fd3-a78b-fb50626535d8"
      },
      "execution_count": null,
      "outputs": [
        {
          "output_type": "stream",
          "name": "stdout",
          "text": [
            "{'name': 'Alice', 'age': 15, 'grade': 'A', 'Year': 'First'}\n"
          ]
        }
      ]
    },
    {
      "cell_type": "markdown",
      "source": [
        "pop()"
      ],
      "metadata": {
        "id": "WLKaOVNGbeJM"
      }
    },
    {
      "cell_type": "code",
      "source": [],
      "metadata": {
        "id": "RSrR8v3Pdi_F"
      },
      "execution_count": null,
      "outputs": []
    },
    {
      "cell_type": "code",
      "source": [
        "student.pop(\"Year\")\n",
        "print(student)"
      ],
      "metadata": {
        "colab": {
          "base_uri": "https://localhost:8080/"
        },
        "id": "ydw71VrzbsB_",
        "outputId": "f25f1935-f86a-443f-9f54-2f5f619e83fc"
      },
      "execution_count": null,
      "outputs": [
        {
          "output_type": "stream",
          "name": "stdout",
          "text": [
            "{'name': 'Alice', 'age': 15, 'grade': 'A'}\n"
          ]
        }
      ]
    },
    {
      "cell_type": "markdown",
      "source": [
        "update()"
      ],
      "metadata": {
        "id": "lGdQzQVDcCuu"
      }
    },
    {
      "cell_type": "code",
      "source": [
        "student.update({\"year\":\"Second\"})\n",
        "print(student)"
      ],
      "metadata": {
        "colab": {
          "base_uri": "https://localhost:8080/"
        },
        "id": "jps1oG1vcFWo",
        "outputId": "500dd9f3-7fdd-4f36-de8c-ce42f1fd61c2"
      },
      "execution_count": null,
      "outputs": [
        {
          "output_type": "stream",
          "name": "stdout",
          "text": [
            "{'name': 'Alice', 'age': 15, 'grade': 'A', 'year': 'Second'}\n"
          ]
        }
      ]
    },
    {
      "cell_type": "markdown",
      "source": [
        "items()"
      ],
      "metadata": {
        "id": "XWu989kicPT2"
      }
    },
    {
      "cell_type": "code",
      "source": [
        "student.items()"
      ],
      "metadata": {
        "colab": {
          "base_uri": "https://localhost:8080/"
        },
        "id": "BpcUOQijcOxt",
        "outputId": "93f0715f-3af7-4222-bf29-2b6b4362ff12"
      },
      "execution_count": null,
      "outputs": [
        {
          "output_type": "execute_result",
          "data": {
            "text/plain": [
              "dict_items([('name', 'Alice'), ('age', 15), ('grade', 'A'), ('year', 'Second')])"
            ]
          },
          "metadata": {},
          "execution_count": 34
        }
      ]
    },
    {
      "cell_type": "markdown",
      "source": [
        "get()"
      ],
      "metadata": {
        "id": "nwoZdVencrAm"
      }
    },
    {
      "cell_type": "code",
      "source": [
        "x=student.get(\"year\")\n",
        "print(x)"
      ],
      "metadata": {
        "colab": {
          "base_uri": "https://localhost:8080/"
        },
        "id": "suRmsAmccZO4",
        "outputId": "0776eca4-ab3a-4016-ad68-98cbad0d0e21"
      },
      "execution_count": null,
      "outputs": [
        {
          "output_type": "stream",
          "name": "stdout",
          "text": [
            "Second\n"
          ]
        }
      ]
    },
    {
      "cell_type": "markdown",
      "source": [
        "# Sets fuctions"
      ],
      "metadata": {
        "id": "_fnUStibcs5Q"
      }
    },
    {
      "cell_type": "code",
      "source": [
        "bikes={\"TVS 50\", \"Splender\",\"Passion\"}"
      ],
      "metadata": {
        "id": "2XtYSV6zdnVe"
      },
      "execution_count": null,
      "outputs": []
    },
    {
      "cell_type": "code",
      "source": [
        "bikes.add(\"Mastero\")\n",
        "print(bikes)"
      ],
      "metadata": {
        "colab": {
          "base_uri": "https://localhost:8080/",
          "height": 193
        },
        "id": "IMhQPOH8fCow",
        "outputId": "99af441e-b996-4904-81cc-a540ef82dc30"
      },
      "execution_count": null,
      "outputs": [
        {
          "output_type": "error",
          "ename": "TypeError",
          "evalue": "'set' object is not callable",
          "traceback": [
            "\u001b[0;31m---------------------------------------------------------------------------\u001b[0m",
            "\u001b[0;31mTypeError\u001b[0m                                 Traceback (most recent call last)",
            "\u001b[0;32m<ipython-input-48-26b12fdd4cf4>\u001b[0m in \u001b[0;36m<cell line: 2>\u001b[0;34m()\u001b[0m\n\u001b[1;32m      1\u001b[0m \u001b[0mbikes\u001b[0m\u001b[0;34m.\u001b[0m\u001b[0madd\u001b[0m\u001b[0;34m(\u001b[0m\u001b[0;34m\"Mastero\"\u001b[0m\u001b[0;34m)\u001b[0m\u001b[0;34m\u001b[0m\u001b[0;34m\u001b[0m\u001b[0m\n\u001b[0;32m----> 2\u001b[0;31m \u001b[0mprint\u001b[0m\u001b[0;34m(\u001b[0m\u001b[0mbikes\u001b[0m\u001b[0;34m)\u001b[0m\u001b[0;34m\u001b[0m\u001b[0;34m\u001b[0m\u001b[0m\n\u001b[0m",
            "\u001b[0;31mTypeError\u001b[0m: 'set' object is not callable"
          ]
        }
      ]
    },
    {
      "cell_type": "code",
      "source": [
        "fruits={\"banana\", \"mango\", \"apple\"}\n",
        "x=fruits.copy()\n",
        "print(x)\n",
        "x.add(\"Kivi\")\n",
        "pritn(x)\n",
        "print(fruits)"
      ],
      "metadata": {
        "colab": {
          "base_uri": "https://localhost:8080/",
          "height": 245
        },
        "id": "yyiTvbvUfqsx",
        "outputId": "9b978a7a-92f7-4051-fb08-dabd97ef2f47"
      },
      "execution_count": null,
      "outputs": [
        {
          "output_type": "error",
          "ename": "TypeError",
          "evalue": "'set' object is not callable",
          "traceback": [
            "\u001b[0;31m---------------------------------------------------------------------------\u001b[0m",
            "\u001b[0;31mTypeError\u001b[0m                                 Traceback (most recent call last)",
            "\u001b[0;32m<ipython-input-50-977392f52759>\u001b[0m in \u001b[0;36m<cell line: 3>\u001b[0;34m()\u001b[0m\n\u001b[1;32m      1\u001b[0m \u001b[0mfruits\u001b[0m\u001b[0;34m=\u001b[0m\u001b[0;34m{\u001b[0m\u001b[0;34m\"banana\"\u001b[0m\u001b[0;34m,\u001b[0m \u001b[0;34m\"mango\"\u001b[0m\u001b[0;34m,\u001b[0m \u001b[0;34m\"apple\"\u001b[0m\u001b[0;34m}\u001b[0m\u001b[0;34m\u001b[0m\u001b[0;34m\u001b[0m\u001b[0m\n\u001b[1;32m      2\u001b[0m \u001b[0mx\u001b[0m\u001b[0;34m=\u001b[0m\u001b[0mfruits\u001b[0m\u001b[0;34m.\u001b[0m\u001b[0mcopy\u001b[0m\u001b[0;34m(\u001b[0m\u001b[0;34m)\u001b[0m\u001b[0;34m\u001b[0m\u001b[0;34m\u001b[0m\u001b[0m\n\u001b[0;32m----> 3\u001b[0;31m \u001b[0mprint\u001b[0m\u001b[0;34m(\u001b[0m\u001b[0mx\u001b[0m\u001b[0;34m)\u001b[0m\u001b[0;34m\u001b[0m\u001b[0;34m\u001b[0m\u001b[0m\n\u001b[0m\u001b[1;32m      4\u001b[0m \u001b[0mx\u001b[0m\u001b[0;34m.\u001b[0m\u001b[0madd\u001b[0m\u001b[0;34m(\u001b[0m\u001b[0;34m\"Kivi\"\u001b[0m\u001b[0;34m)\u001b[0m\u001b[0;34m\u001b[0m\u001b[0;34m\u001b[0m\u001b[0m\n\u001b[1;32m      5\u001b[0m \u001b[0mpritn\u001b[0m\u001b[0;34m(\u001b[0m\u001b[0mx\u001b[0m\u001b[0;34m)\u001b[0m\u001b[0;34m\u001b[0m\u001b[0;34m\u001b[0m\u001b[0m\n",
            "\u001b[0;31mTypeError\u001b[0m: 'set' object is not callable"
          ]
        }
      ]
    },
    {
      "cell_type": "code",
      "source": [
        "x={1,2,3,4,5}\n",
        "y=(3,4,5,6,7)\n",
        "x.difference_update(y)\n",
        "\n",
        "print(x)"
      ],
      "metadata": {
        "colab": {
          "base_uri": "https://localhost:8080/",
          "height": 210
        },
        "id": "tm_KhT2WgiHX",
        "outputId": "222bbc36-1daf-422f-cde8-255193e00040"
      },
      "execution_count": null,
      "outputs": [
        {
          "output_type": "error",
          "ename": "TypeError",
          "evalue": "'set' object is not callable",
          "traceback": [
            "\u001b[0;31m---------------------------------------------------------------------------\u001b[0m",
            "\u001b[0;31mTypeError\u001b[0m                                 Traceback (most recent call last)",
            "\u001b[0;32m<ipython-input-51-d8f62cf4f4e5>\u001b[0m in \u001b[0;36m<cell line: 5>\u001b[0;34m()\u001b[0m\n\u001b[1;32m      3\u001b[0m \u001b[0mx\u001b[0m\u001b[0;34m.\u001b[0m\u001b[0mdifference_update\u001b[0m\u001b[0;34m(\u001b[0m\u001b[0my\u001b[0m\u001b[0;34m)\u001b[0m\u001b[0;34m\u001b[0m\u001b[0;34m\u001b[0m\u001b[0m\n\u001b[1;32m      4\u001b[0m \u001b[0;34m\u001b[0m\u001b[0m\n\u001b[0;32m----> 5\u001b[0;31m \u001b[0mprint\u001b[0m\u001b[0;34m(\u001b[0m\u001b[0mx\u001b[0m\u001b[0;34m)\u001b[0m\u001b[0;34m\u001b[0m\u001b[0;34m\u001b[0m\u001b[0m\n\u001b[0m",
            "\u001b[0;31mTypeError\u001b[0m: 'set' object is not callable"
          ]
        }
      ]
    }
  ]
}