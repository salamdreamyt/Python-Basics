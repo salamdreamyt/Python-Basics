{
  "nbformat": 4,
  "nbformat_minor": 0,
  "metadata": {
    "colab": {
      "provenance": []
    },
    "kernelspec": {
      "name": "python3",
      "display_name": "Python 3"
    },
    "language_info": {
      "name": "python"
    }
  },
  "cells": [
    {
      "cell_type": "code",
      "execution_count": null,
      "metadata": {
        "id": "p4Y0JQN0nZvC"
      },
      "outputs": [],
      "source": []
    },
    {
      "cell_type": "markdown",
      "source": [
        "# Day3 Python - Control Flow\n",
        "\n",
        "The \"if\" condition is a fundamental contrpol flow statement in programming languages. It allows you to executre a block of code only if a specified is true.\n",
        "\n",
        "Qus.1\n",
        "Declare the two variables num1 and num2, check whether num2 is greater than num1. (refer sample input and outpu)\n",
        "\n",
        "Hint : Use the comparison operator '>'\n",
        "\n",
        "Alogritham\n",
        "Declare the two variables, num1, num2\n",
        "Implement an \"if\" condition to check the num2 is greater thatn num1\n",
        "display the result the print() function.\n",
        "\n",
        "Sample input:\n",
        "num1=5\n",
        "num2=10\n",
        "\n",
        "Sample output\n",
        "10 greater than 5\n"
      ],
      "metadata": {
        "id": "lYVfd0pmneQo"
      }
    },
    {
      "cell_type": "code",
      "source": [
        "var1=int(input(\"Enter value for variable one\"))\n",
        "var2=int(input(\"Enter value for variable two\"))\n",
        "if var2>var1:\n",
        "  print(var2,\"is greater than\", var1)\n",
        "else:\n",
        "  print(var2, \"is not greater than\", var1)"
      ],
      "metadata": {
        "colab": {
          "base_uri": "https://localhost:8080/"
        },
        "id": "jpCSgnLoovVl",
        "outputId": "6e057d12-facb-49a4-f262-4358c4a55d35"
      },
      "execution_count": 2,
      "outputs": [
        {
          "output_type": "stream",
          "name": "stdout",
          "text": [
            "Enter value for variable one5\n",
            "Enter value for variable two10\n",
            "10 is greater than 5\n"
          ]
        }
      ]
    },
    {
      "cell_type": "markdown",
      "source": [
        "# If else condition\n",
        "The if else condition is a control flow structure that checks whether a specified condition is true or false. it is used to cerate decision-making structure in a program.\n",
        "\n",
        "Qus.2\n",
        "Write Python code to determine whether the given number is even or odd. if the number is even, print \"The number is even\" and if it's odd, print \"The number is odd\"\n",
        "\n",
        "Hint: Use the modulo operator (%) within the \"if else\" condition\n",
        "\n",
        "Algorithm\n",
        "Declare the variable number\n",
        "use the input() function to get the number\n",
        "Use the \"if else\" condition to check if the number is even or odd\n",
        "Display the output by useing print() function\n",
        "\n",
        "Smaple input\n",
        "Enter a number 6\n",
        "Sample output\n",
        "The number is even.\n"
      ],
      "metadata": {
        "id": "bO8EffmRpxvW"
      }
    },
    {
      "cell_type": "code",
      "source": [
        "num1=int(input(\"Enter the number\"))\n",
        "if num1 % 2==0:\n",
        "  print(num1, \"is even number\")\n",
        "else:\n",
        "  print(num1, \"is not a even number\")"
      ],
      "metadata": {
        "colab": {
          "base_uri": "https://localhost:8080/"
        },
        "id": "kecb8ZYXt1wT",
        "outputId": "37745484-1de6-4076-be3f-6c13aa727db1"
      },
      "execution_count": 10,
      "outputs": [
        {
          "output_type": "stream",
          "name": "stdout",
          "text": [
            "Enter the number5\n",
            "5 is not a even number\n"
          ]
        }
      ]
    },
    {
      "cell_type": "markdown",
      "source": [
        "Qus=1\n",
        "Determine whether a given year is a leap year or not.\n",
        "\n",
        "hint:\n",
        "Use the modulo operator (%) within the if else condition. A leap year is divisible by 4. Except for year that divisible by 100 not divisible by 400"
      ],
      "metadata": {
        "id": "93A4TGYvvjDq"
      }
    },
    {
      "cell_type": "markdown",
      "source": [],
      "metadata": {
        "id": "5Yk7Gl2cxujT"
      }
    },
    {
      "cell_type": "code",
      "source": [
        "year=int(input(\"Enter the year\"))\n",
        "if year % 100==0 and year % 400==0:\n",
        "    print(year, \"is Leap Year\")\n",
        "else:\n",
        "    print(year, \"is not Leap Year\")"
      ],
      "metadata": {
        "colab": {
          "base_uri": "https://localhost:8080/"
        },
        "id": "fL4mr2UDwYL0",
        "outputId": "a8fa81af-3466-4cf1-e7fa-b66500ed4866"
      },
      "execution_count": 21,
      "outputs": [
        {
          "output_type": "stream",
          "name": "stdout",
          "text": [
            "Enter the year2024\n",
            "2024 is not Leap Year\n"
          ]
        }
      ]
    },
    {
      "cell_type": "markdown",
      "source": [
        "Ques. 4\n",
        "Determine whether a student has passed or failed a subject based on their exam score. if the score is above 50 or higher, print \"Congratualtions! You have passed\", print \"Sorry, you have failed better luck next time.\n",
        "\n",
        "hint: use the comparison operator >= within if else condition.\n",
        "\n",
        "Alogrithm\n",
        "Declare the variable exam_score\n",
        "use the input() funtion to obtain the exam score.\n",
        "implement the \"if else\" condition to check if the score is equal to or greater than 50.\n",
        "display the result using the print() function.\n",
        "\n",
        "Sample input: 75\n",
        "Sample output()\n",
        "Conguratualtion! you have passed\n",
        "Sampel output ()\n",
        "Sorry, You have failed. better luck next time.\n"
      ],
      "metadata": {
        "id": "TC7aBrZNxdfy"
      }
    },
    {
      "cell_type": "code",
      "source": [
        "exam_score=int(input(\"Enter you exam score\"))\n",
        "if exam_score>=50:\n",
        "  print(\"Conguratualtions!, You have passed\")\n",
        "else:\n",
        "  print(\"Sorry, You have not passed.\")"
      ],
      "metadata": {
        "colab": {
          "base_uri": "https://localhost:8080/"
        },
        "id": "8eXzTJ2b_ejG",
        "outputId": "0b1ada59-bb20-4629-92b3-939143229173"
      },
      "execution_count": 2,
      "outputs": [
        {
          "output_type": "stream",
          "name": "stdout",
          "text": [
            "Enter you exam score42\n",
            "Sorry, You have not passed.\n"
          ]
        }
      ]
    },
    {
      "cell_type": "markdown",
      "source": [
        "# elif\n",
        "\n",
        "\"elif is used to check additional conditions when the initial if conditions is false. if any elif condition is true corresponding block of code is executed, providing an alternative path in decision making.\n",
        "\n",
        "Q-5\n",
        "Categorize a gien number as positive, negative or zero usig the following criteria:\n",
        "if the number is greater than 0, print \"Positive\"\n",
        "if the number is less than 0, Negative\n",
        "if the number is 0, print zero\n",
        "\n",
        "hint\n",
        "Use the if - elif - else\n",
        "\n",
        "Algorithm\n",
        "Declare the variable number\n",
        "use the input() function to obtain the number\n",
        "implement the if elif else condition to check whether the number is positive, negative or zero\n",
        "display the result using print() function\n",
        "\n",
        "Sample input 0\n",
        "Enther a number 7\n",
        "positive\n",
        "Sample output 1\n",
        "enter a number 0\n",
        "zero"
      ],
      "metadata": {
        "id": "wZGTqt7hBF__"
      }
    },
    {
      "cell_type": "code",
      "source": [
        "exam_score=int(input(\"Enter the your exam score\"))\n",
        "if exam_score>0:\n",
        "  print(\"Positive\")\n",
        "elif exam_score==0:\n",
        "    print(\"Zero\")\n",
        "else:\n",
        "  print(\"Number is Negative\")"
      ],
      "metadata": {
        "colab": {
          "base_uri": "https://localhost:8080/"
        },
        "id": "c4KlAMu-CyIe",
        "outputId": "d2e1e994-22ef-4e18-aa7a-23272434cfac"
      },
      "execution_count": 10,
      "outputs": [
        {
          "output_type": "stream",
          "name": "stdout",
          "text": [
            "Enter the your exam score-3\n",
            "Number is Negative\n"
          ]
        }
      ]
    },
    {
      "cell_type": "markdown",
      "source": [
        "Q-6\n",
        "\n",
        "Determine the category of given temprature based on the following criteria\n",
        "\n",
        "if the temp is below 0 de.cl print Freezing\n",
        "if the temp is 0 and 18 de.cl. print cold\n",
        "if the temp is below 18 and 30 de.cl print warm\n",
        "if the temp is above 30 de.cl print hot\n",
        "\n",
        "it elif else\n",
        "\n"
      ],
      "metadata": {
        "id": "To_V6sApEUrm"
      }
    },
    {
      "cell_type": "code",
      "source": [
        "temp=int(input(\"Enter the temprature\"))\n",
        "if temp < 0:\n",
        "  print(\"Freezing\")\n",
        "elif temp>0 and temp<18:\n",
        "  print(\"Cold\")\n",
        "elif temp>18 and temp<30:\n",
        "  print(\"Warm\")\n",
        "else:\n",
        "  print (\"Hot\")"
      ],
      "metadata": {
        "colab": {
          "base_uri": "https://localhost:8080/"
        },
        "id": "YJcHcbHsFNk2",
        "outputId": "7ccbb252-07dc-4af9-ef5f-0dcf9afc7e92"
      },
      "execution_count": 14,
      "outputs": [
        {
          "output_type": "stream",
          "name": "stdout",
          "text": [
            "Enter the temprature40\n",
            "Hot\n"
          ]
        }
      ]
    },
    {
      "cell_type": "markdown",
      "source": [
        "Q-7\n",
        "Categorize a student's academic performance based on their grade using criteria\n",
        "\n",
        "if the grade is A print Excellent\n",
        "if the grade is B print Good\n",
        "IF the grade is c print Satisfactory\n",
        "fi the grade is d print Needs improvment\n",
        "if the grade is e pring fail"
      ],
      "metadata": {
        "id": "8_O1ji3FGLz7"
      }
    },
    {
      "cell_type": "code",
      "source": [
        "grade=input(\"Enter you grade\")\n",
        "if grade == \"A\":\n",
        "  print(\"Excellent\")\n",
        "elif grade == \"B\":\n",
        "  pritn(\"Good\")\n",
        "elif grade == \"C\":\n",
        "  print(Satisfactory)\n",
        "elif grade == \"D\":\n",
        "  print(\"Needs improvement\")\n",
        "else:\n",
        "  print(\"Fail\")"
      ],
      "metadata": {
        "colab": {
          "base_uri": "https://localhost:8080/"
        },
        "id": "AhQ1Wu4KG23l",
        "outputId": "c1bcbdf9-c156-468b-8836-f2623c198008"
      },
      "execution_count": 20,
      "outputs": [
        {
          "output_type": "stream",
          "name": "stdout",
          "text": [
            "Enter you gradeA\n",
            "Excellent\n"
          ]
        }
      ]
    },
    {
      "cell_type": "markdown",
      "source": [
        "# For loop\n",
        "\n",
        "A for loop is Python is a control flow that is used to repeatedly execute a gorup of statements as long as the conditiona is statisfied.\n",
        "\n",
        "Q-8\n",
        "print the first natural numbers\n",
        "\n",
        "hint: use for loop to iterate through the numbers from 1 to n andprint each number\n",
        "\n",
        "Algo:\n",
        "Declare the variabl n\n",
        "use the for loop to iterate through numbers from 1 to n\n",
        "inside the loop, print each number\n",
        "\n"
      ],
      "metadata": {
        "id": "BBHAHc_XIFoW"
      }
    },
    {
      "cell_type": "code",
      "source": [
        "n=int(input(\"Enter the value \"))\n",
        "for i in range(1,n+1):\n",
        "    print(i)"
      ],
      "metadata": {
        "colab": {
          "base_uri": "https://localhost:8080/"
        },
        "id": "kGS7VCIOI2pW",
        "outputId": "95e5e55b-48d4-4763-9ca8-7422543708df"
      },
      "execution_count": 31,
      "outputs": [
        {
          "output_type": "stream",
          "name": "stdout",
          "text": [
            "Enter the value 5\n",
            "1\n",
            "2\n",
            "3\n",
            "4\n",
            "5\n"
          ]
        }
      ]
    },
    {
      "cell_type": "markdown",
      "source": [
        "Q-9\n",
        "\n",
        "Print the multiplication table of a given pasitive integer upto (n) specified range"
      ],
      "metadata": {
        "id": "euNmzyBwLHtz"
      }
    },
    {
      "cell_type": "code",
      "source": [
        "n=int(input(\"Enter the value\"))\n",
        "for i in range (1,6):\n",
        "  print(i,\"*\",n,\"=\",i*n)\n"
      ],
      "metadata": {
        "colab": {
          "base_uri": "https://localhost:8080/"
        },
        "id": "3LyYw335LgJd",
        "outputId": "a5d0ef3b-3f6c-4211-81b8-33d0e18767a5"
      },
      "execution_count": 55,
      "outputs": [
        {
          "output_type": "stream",
          "name": "stdout",
          "text": [
            "Enter the value5\n",
            "1 * 5 = 5\n",
            "2 * 5 = 10\n",
            "3 * 5 = 15\n",
            "4 * 5 = 20\n",
            "5 * 5 = 25\n"
          ]
        }
      ]
    },
    {
      "cell_type": "markdown",
      "source": [
        "Ques - 10\n",
        "\n",
        "Calculate the factorial of a given number"
      ],
      "metadata": {
        "id": "gHid-QLsSL2I"
      }
    },
    {
      "cell_type": "code",
      "source": [
        "n=int(input(\"Enter the number\"))\n",
        "factorial=1\n",
        "for i in range (1,n+1):\n",
        "  factorial*=i\n",
        "  print(\"The factorial of \",n,\"is \", factorial)"
      ],
      "metadata": {
        "colab": {
          "base_uri": "https://localhost:8080/",
          "height": 144
        },
        "id": "ARH0inBrSTqL",
        "outputId": "0936d301-5da3-4adb-acb7-5674f29766dc"
      },
      "execution_count": 69,
      "outputs": [
        {
          "output_type": "error",
          "ename": "SyntaxError",
          "evalue": "invalid syntax (<ipython-input-69-44357e7a7385>, line 4)",
          "traceback": [
            "\u001b[0;36m  File \u001b[0;32m\"<ipython-input-69-44357e7a7385>\"\u001b[0;36m, line \u001b[0;32m4\u001b[0m\n\u001b[0;31m    factorial*=i+\u001b[0m\n\u001b[0m                 ^\u001b[0m\n\u001b[0;31mSyntaxError\u001b[0m\u001b[0;31m:\u001b[0m invalid syntax\n"
          ]
        }
      ]
    }
  ]
}