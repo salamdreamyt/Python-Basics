{
  "nbformat": 4,
  "nbformat_minor": 0,
  "metadata": {
    "colab": {
      "provenance": []
    },
    "kernelspec": {
      "name": "python3",
      "display_name": "Python 3"
    },
    "language_info": {
      "name": "python"
    }
  },
  "cells": [
    {
      "cell_type": "markdown",
      "source": [
        "**Question 1:**\n",
        "Create a Python list named fruits with the elements 'apple', 'banana', and 'orange'.\n",
        "**Hints:**\n",
        "Use square brackets [] to define a list.\n",
        "Example: fruits = ['apple', 'mango'].\n",
        "**Algorithm:**\n",
        "Define a list named fruits with elements 'apple', 'banana', and 'orange'.\n",
        "**Display the list.**\n",
        "Sample Output 1:\n",
        "Fruits list: ['apple', 'banana', 'orange']\n",
        "P"
      ],
      "metadata": {
        "id": "i-Yreey6deUJ"
      }
    },
    {
      "cell_type": "code",
      "source": [
        "fruits=[\"apple\",\"banana\",\"mango\"]\n",
        "print(fruits)"
      ],
      "metadata": {
        "colab": {
          "base_uri": "https://localhost:8080/"
        },
        "id": "UsgUr57odsCU",
        "outputId": "097170d3-d4f4-4d10-ec3a-e2614305123a"
      },
      "execution_count": null,
      "outputs": [
        {
          "output_type": "stream",
          "name": "stdout",
          "text": [
            "['apple', 'banana', 'mango']\n"
          ]
        }
      ]
    },
    {
      "cell_type": "markdown",
      "source": [
        "Question 2:\n",
        "Add a new fruit, 'grape', to the existing fruits list.\n",
        "Hints:\n",
        "Use the append method to add an element to the end of the list.\n",
        "Example: fruits.append('mango').\n",
        "Algorithm:\n",
        "Use the append method to add 'grape' to the fruits list.\n",
        "Display the updated list.\n",
        "Sample Output:\n",
        "Updated Fruits list: ['apple', 'banana', 'orange', 'grape']"
      ],
      "metadata": {
        "id": "Qx64hcQYeDby"
      }
    },
    {
      "cell_type": "code",
      "source": [
        "fruits.append(\"grape\")\n",
        "print(fruits)"
      ],
      "metadata": {
        "colab": {
          "base_uri": "https://localhost:8080/"
        },
        "id": "Eqm4pdY7eIDx",
        "outputId": "3cb3a209-44f8-4f0c-a8b9-854672273071"
      },
      "execution_count": null,
      "outputs": [
        {
          "output_type": "stream",
          "name": "stdout",
          "text": [
            "['apple', 'banana', 'mango', 'grape']\n"
          ]
        }
      ]
    },
    {
      "cell_type": "markdown",
      "source": [
        "Question 3:\n",
        "Remove 'banana' from the fruits list.\n",
        "Hints:\n",
        "Use the remove method to remove a specific element.\n",
        "Example: fruits.remove('mango').\n",
        "\n",
        "Algorithm:\n",
        "Use the remove method to remove 'banana' from the fruits list.\n",
        "Display the updated list.\n",
        "Sample Output :\n",
        "Updated Fruits list: ['apple', 'orange', 'grape']"
      ],
      "metadata": {
        "id": "YwEwWb69fAvR"
      }
    },
    {
      "cell_type": "code",
      "source": [
        "fruits.remove(\"mango\")\n",
        "print(fruits)"
      ],
      "metadata": {
        "colab": {
          "base_uri": "https://localhost:8080/"
        },
        "id": "TPSQdNBufFQp",
        "outputId": "050426cd-661f-432f-ec43-50d615f8cc6e"
      },
      "execution_count": null,
      "outputs": [
        {
          "output_type": "stream",
          "name": "stdout",
          "text": [
            "['apple', 'banana', 'grape']\n"
          ]
        }
      ]
    },
    {
      "cell_type": "markdown",
      "source": [
        "Question 4:\n",
        "Check if 'apple' is present in the fruits list.\n",
        "Hints:\n",
        "Use the in keyword for membership testing.\n",
        "Example: if 'mango' in fruits:.\n",
        "Algorithm:\n",
        "Check if 'apple' is present in the fruits list using the in keyword.\n",
        "Display the result.\n",
        "Sample Output:\n",
        "'apple' is present in the list."
      ],
      "metadata": {
        "id": "HmmV-4hshzMZ"
      }
    },
    {
      "cell_type": "code",
      "source": [
        "if \"apple\" in fruits:\n",
        "    print(\"apple is present in fruits\")\n",
        "else:\n",
        "    print(\"apple is not present in furits\")"
      ],
      "metadata": {
        "colab": {
          "base_uri": "https://localhost:8080/"
        },
        "id": "y7k_z4pVh4Xo",
        "outputId": "a7775642-2e1a-4a3e-a913-8a9732deee51"
      },
      "execution_count": null,
      "outputs": [
        {
          "output_type": "stream",
          "name": "stdout",
          "text": [
            "apple is present in fruits\n"
          ]
        }
      ]
    },
    {
      "cell_type": "markdown",
      "source": [
        "Question 5:\n",
        "Create a new list named numbers with the elements 1, 2, and 3.\n",
        "Hints:\n",
        "Use square brackets to define the list.\n",
        "Algorithm:\n",
        "Define a list named numbers with elements 1, 2, and 3.\n",
        "Display the list.\n",
        "Sample Output:\n",
        "Numbers list: [1, 2, 3]"
      ],
      "metadata": {
        "id": "hRalaHTkk2KI"
      }
    },
    {
      "cell_type": "code",
      "source": [
        "numbers=[1,2,3]\n",
        "print(numbers)"
      ],
      "metadata": {
        "colab": {
          "base_uri": "https://localhost:8080/"
        },
        "id": "uQh_9pbZk6RC",
        "outputId": "ca7ec1e9-6c18-49ac-dece-5f1072c93656"
      },
      "execution_count": null,
      "outputs": [
        {
          "output_type": "stream",
          "name": "stdout",
          "text": [
            "[1, 2, 3]\n"
          ]
        }
      ]
    },
    {
      "cell_type": "markdown",
      "source": [
        "Question 6:\n",
        "Use the extend method to combine the fruits and numbers lists into a single list.\n",
        "Hints:Use the extend method to append elements from another list.\n",
        "Example: numbers.extend(fruits).\n",
        "Algorithm:\n",
        "Use the extend method to combine the fruits and numbers lists.\n",
        "Display the combined list.\n",
        "Sample Output:\n",
        "Combined list: ['apple', 'orange', 'grape', 1, 2, 3]"
      ],
      "metadata": {
        "id": "Pe7bc7XelDtx"
      }
    },
    {
      "cell_type": "code",
      "source": [
        "fruits.extend(numbers)\n",
        "print(fruits)"
      ],
      "metadata": {
        "colab": {
          "base_uri": "https://localhost:8080/"
        },
        "id": "eAX1plq9lQ6p",
        "outputId": "eae33b86-a3e6-4f7a-c493-379221952a46"
      },
      "execution_count": null,
      "outputs": [
        {
          "output_type": "stream",
          "name": "stdout",
          "text": [
            "['apple', 'banana', 'grape', 1, 2, 3]\n"
          ]
        }
      ]
    },
    {
      "cell_type": "markdown",
      "source": [
        "Question 7:\n",
        "Use the index method to find the index of 'orange' in the combined list.\n",
        "Hints:\n",
        "index = combined_list.index('mango').\n",
        "Algorithm:\n",
        "Use the index method to find the index of 'orange' in the combined list.\n",
        "Display the index.\n",
        "Sample Output:\n",
        "Index of 'orange': 1"
      ],
      "metadata": {
        "id": "QVnruFgelbWp"
      }
    },
    {
      "cell_type": "code",
      "source": [
        "fruits.index(\"mango\")"
      ],
      "metadata": {
        "id": "eFnO_4CelhJo",
        "colab": {
          "base_uri": "https://localhost:8080/"
        },
        "outputId": "04563727-b29c-4b5a-f1c4-24e3774fd937"
      },
      "execution_count": null,
      "outputs": [
        {
          "output_type": "execute_result",
          "data": {
            "text/plain": [
              "2"
            ]
          },
          "metadata": {},
          "execution_count": 4
        }
      ]
    },
    {
      "cell_type": "markdown",
      "source": [
        "Question 8:\n",
        "Reverse the order of elements in the fruits list using the reverse method.\n",
        "Hints:\n",
        "Use the reverse method to reverse the order of elements.\n",
        "Example: numbers.reverse().\n",
        "Algorithm:\n",
        "Use the reverse method to reverse the order of elements in the fruits list.\n",
        "Display the reversed list.\n",
        "Sample Output:\n",
        "Reversed Fruits list: ['grape', 'orange', 'apple']"
      ],
      "metadata": {
        "id": "TRf0TCiB7C47"
      }
    },
    {
      "cell_type": "code",
      "source": [
        "fruits.reverse()\n",
        "print(fruits)"
      ],
      "metadata": {
        "colab": {
          "base_uri": "https://localhost:8080/"
        },
        "id": "BhpUAhYk7Dze",
        "outputId": "1060a49e-c67c-43ed-df65-da654a7d2fd0"
      },
      "execution_count": null,
      "outputs": [
        {
          "output_type": "stream",
          "name": "stdout",
          "text": [
            "['mango', 'banana', 'apple']\n"
          ]
        }
      ]
    },
    {
      "cell_type": "markdown",
      "source": [
        "# Python Tuples\n",
        "Tuples are immutable, Python tuples are a type of data structure that is very similar to lists.\n",
        "Question 9:\n",
        "Create a Python tuple named days with the elements 'Monday', 'Tuesday', and 'Wednesday'.\n",
        "Hints:\n",
        "Use parentheses () to define a tuple.\n",
        "Example: days = ('Monday', 'Tuesday').\n",
        "Algorithm:\n",
        "Create a tuple named days with the elements 'Monday', 'Tuesday', and 'Wednesday'.\n",
        "Display the tuple.\n",
        "Sample Output:\n",
        "Days tuple: ('Monday', 'Tuesday', 'Wednesday')"
      ],
      "metadata": {
        "id": "U2EEXbo-9Gpd"
      }
    },
    {
      "cell_type": "code",
      "source": [
        "days=('Monday','Tuesday',\"Wednesday\")\n",
        "print(days)"
      ],
      "metadata": {
        "colab": {
          "base_uri": "https://localhost:8080/"
        },
        "id": "qsBC20B19FxU",
        "outputId": "136b62b5-0ef8-4634-f694-58332ad62c7f"
      },
      "execution_count": null,
      "outputs": [
        {
          "output_type": "stream",
          "name": "stdout",
          "text": [
            "('Monday', 'Tuesday', 'Wednesday')\n"
          ]
        }
      ]
    },
    {
      "cell_type": "markdown",
      "source": [
        "Question 10:\n",
        "Access the second element of the days tuple and display it.\n",
        "Hints:\n",
        "Use indexing to access elements in a tuple.\n",
        "Example: third_day = days[2].\n",
        "Algorithm:\n",
        "Access the second element of the days tuple.\n",
        "Display the result.\n",
        "Sample Output:\n",
        "Second day: Tuesday"
      ],
      "metadata": {
        "id": "OA60sWw-92jb"
      }
    },
    {
      "cell_type": "code",
      "source": [
        "days[1]"
      ],
      "metadata": {
        "colab": {
          "base_uri": "https://localhost:8080/",
          "height": 35
        },
        "id": "_aNr6lVl93kz",
        "outputId": "6a3d74d0-e72b-466e-e2ab-a00abb07dd47"
      },
      "execution_count": null,
      "outputs": [
        {
          "output_type": "execute_result",
          "data": {
            "text/plain": [
              "'Tuesday'"
            ],
            "application/vnd.google.colaboratory.intrinsic+json": {
              "type": "string"
            }
          },
          "metadata": {},
          "execution_count": 12
        }
      ]
    },
    {
      "cell_type": "markdown",
      "source": [
        "Tuple Methods\n",
        "Tuples are immutable sequences of elements that can be used to group related data together.\n",
        "Question 11:\n",
        "Count the occurrences of 'Tuesday' in the days tuple using the count method.\n",
        "Hints:\n",
        "Use the count method to count occurrences of an element.\n",
        "Example: count_monday = tuple1.count('monday').\n",
        "Algorithm:\n",
        "Use the count method to count occurrences of 'Tuesday' in the days tuple.\n",
        "Display the result.\n",
        "Sample Output:\n",
        "Tuple Methods\n",
        "keyboard_arrow_down\n",
        "1/"
      ],
      "metadata": {
        "id": "MyDJWtg7-dtT"
      }
    },
    {
      "cell_type": "code",
      "source": [
        "days.count('Tuesday')"
      ],
      "metadata": {
        "colab": {
          "base_uri": "https://localhost:8080/"
        },
        "id": "XuTHkCUc-eji",
        "outputId": "fe10d94e-3a66-4fca-f5ff-e2deb13cb898"
      },
      "execution_count": null,
      "outputs": [
        {
          "output_type": "execute_result",
          "data": {
            "text/plain": [
              "1"
            ]
          },
          "metadata": {},
          "execution_count": 14
        }
      ]
    },
    {
      "cell_type": "markdown",
      "source": [
        "Question 12:\n",
        "Find the index of 'Wednesday' in the days tuple using the index method.\n",
        "Hints:\n",
        "Use the index method to find the index of an element.\n",
        "Example: index_monday = tuple1.index('Monday').\n",
        "Algorithm:\n",
        "Use the index method to find the index of 'Wednesday' in the days tuple.\n",
        "Display the result.\n",
        "Sample Output:\n",
        "Index of 'Wednesday': 2"
      ],
      "metadata": {
        "id": "y_KuRCzo-2Iy"
      }
    },
    {
      "cell_type": "code",
      "source": [
        "days.index('Wednesday')"
      ],
      "metadata": {
        "colab": {
          "base_uri": "https://localhost:8080/"
        },
        "id": "artCe4ce-6z2",
        "outputId": "6c5d94d3-78a2-4c20-8e48-dbbe091cae25"
      },
      "execution_count": null,
      "outputs": [
        {
          "output_type": "execute_result",
          "data": {
            "text/plain": [
              "2"
            ]
          },
          "metadata": {},
          "execution_count": 16
        }
      ]
    }
  ]
}